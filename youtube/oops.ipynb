{
 "cells": [
  {
   "cell_type": "code",
   "execution_count": 52,
   "id": "318ba246-a555-4e69-8745-e0c0551fac24",
   "metadata": {},
   "outputs": [
    {
     "name": "stdout",
     "output_type": "stream",
     "text": [
      "Hi Javier\n",
      "Your marks is 30\n",
      "You failed\n"
     ]
    }
   ],
   "source": [
    "class Student:\n",
    "    def __init__(self, name, marks):\n",
    "        self.name = name\n",
    "        self.marks = marks\n",
    "    \n",
    "    def display(self):\n",
    "        print('Hi', self.name)\n",
    "        print('Your marks is', self.marks)\n",
    "    \n",
    "    def grade(self):\n",
    "        if self.marks>=60:\n",
    "            print('You got first grade')\n",
    "        elif self.marks>=50:\n",
    "            print('You got second grade')\n",
    "        else:\n",
    "            print('You failed')\n",
    "        \n",
    "s = Student('Javier', 30)\n",
    "s.display()\n",
    "s.grade()\n"
   ]
  },
  {
   "cell_type": "markdown",
   "id": "81e47c10-ba5a-4c1a-980b-28a43946c91c",
   "metadata": {},
   "source": [
    "# Types of inheritance\n",
    "    "
   ]
  },
  {
   "cell_type": "markdown",
   "id": "bac1a537-0c86-4de1-8d7e-e918eeaa31ca",
   "metadata": {},
   "source": [
    "## Single inheritance"
   ]
  },
  {
   "cell_type": "code",
   "execution_count": 53,
   "id": "d6ff4be6-4878-45b7-92b5-6f2d9225fb22",
   "metadata": {},
   "outputs": [
    {
     "name": "stdout",
     "output_type": "stream",
     "text": [
      "Parent Method\n",
      "Child method\n"
     ]
    }
   ],
   "source": [
    "class P:\n",
    "    def m1(self):\n",
    "        print('Parent Method')\n",
    "\n",
    "class C(P):\n",
    "    def m2(self):\n",
    "        print('Child method')\n",
    "c = C()\n",
    "c.m1()\n",
    "c.m2()"
   ]
  },
  {
   "cell_type": "markdown",
   "id": "d36c6c82-baf9-4505-9db6-2f19a4ba49f9",
   "metadata": {},
   "source": [
    "## Multi-level inheritance"
   ]
  },
  {
   "cell_type": "code",
   "execution_count": 54,
   "id": "fa40c0c5-7257-4a3f-94a7-f7072de3a42d",
   "metadata": {},
   "outputs": [
    {
     "name": "stdout",
     "output_type": "stream",
     "text": [
      "Sub child method\n",
      "Child method\n",
      "Parent method\n"
     ]
    }
   ],
   "source": [
    "class P:\n",
    "    def m1(self):\n",
    "        print('Parent method')\n",
    "class C(P):\n",
    "    def m2(self):\n",
    "        print('Child method')\n",
    "        \n",
    "class CC(C):\n",
    "    def m3(self):\n",
    "        print('Sub child method')\n",
    "\n",
    "\n",
    "c = CC()\n",
    "c.m3()\n",
    "c.m2()\n",
    "c.m1()"
   ]
  },
  {
   "cell_type": "code",
   "execution_count": 55,
   "id": "683b49df-b70b-458d-9517-d921d917fa1e",
   "metadata": {},
   "outputs": [
    {
     "name": "stdout",
     "output_type": "stream",
     "text": [
      "Child Method\n",
      "Parent method\n",
      "Child2 Method\n",
      "Parent method\n"
     ]
    }
   ],
   "source": [
    "class P:\n",
    "    def m1(self):\n",
    "        print('Parent method')\n",
    "class C(P):\n",
    "    def m2(self):\n",
    "        print('Child Method')\n",
    "class CC(P):\n",
    "    def m3(self):\n",
    "        print('Child2 Method')\n",
    "c = C()\n",
    "c.m2()\n",
    "c.m1()\n",
    "cc = CC()\n",
    "cc.m3()\n",
    "cc.m1()\n"
   ]
  },
  {
   "cell_type": "code",
   "execution_count": 56,
   "id": "5752b67c-f80e-46f3-a8f6-f96fd12a4a85",
   "metadata": {},
   "outputs": [
    {
     "name": "stdout",
     "output_type": "stream",
     "text": [
      "Child Method\n",
      "Parent2 Method\n",
      "Parent1 Method\n"
     ]
    }
   ],
   "source": [
    "class P1: \n",
    "    def m1(self):\n",
    "        print('Parent1 Method')\n",
    "class P2:\n",
    "    def m2(self):\n",
    "        print('Parent2 Method')\n",
    "class C(P1, P2):\n",
    "    def m3(self):\n",
    "        print('Child Method')\n",
    "c = C()\n",
    "c.m3()\n",
    "c.m2()\n",
    "c.m1()"
   ]
  },
  {
   "cell_type": "code",
   "execution_count": 57,
   "id": "64e21f41-5fd1-4b06-8d36-348a9319db1e",
   "metadata": {},
   "outputs": [
    {
     "data": {
      "text/plain": [
       "30"
      ]
     },
     "execution_count": 57,
     "metadata": {},
     "output_type": "execute_result"
    }
   ],
   "source": [
    "a = 10\n",
    "b = 20\n",
    "a + b\n",
    "\n",
    "#Operator overloading"
   ]
  },
  {
   "cell_type": "code",
   "execution_count": 58,
   "id": "5e2fdef7-c2fb-4359-ae3f-c4e149c7d2ba",
   "metadata": {},
   "outputs": [
    {
     "data": {
      "text/plain": [
       "'RT'"
      ]
     },
     "execution_count": 58,
     "metadata": {},
     "output_type": "execute_result"
    }
   ],
   "source": [
    "a = 'R'\n",
    "b = 'T'\n",
    "a + b"
   ]
  },
  {
   "cell_type": "code",
   "execution_count": 59,
   "id": "7d042419-08bd-4f54-bc73-358cfd9f1d5f",
   "metadata": {},
   "outputs": [
    {
     "name": "stdout",
     "output_type": "stream",
     "text": [
      "350\n"
     ]
    }
   ],
   "source": [
    "class Book:\n",
    "    def __init__(self, pages):\n",
    "        self.pages = pages\n",
    "    def __add__(self, other):\n",
    "        total = self.pages + other.pages\n",
    "        return Book(total)\n",
    "    def __str__(self):\n",
    "        return str(self.pages)\n",
    "    \n",
    "b1 = Book(200)\n",
    "b2 = Book(100)\n",
    "b3 = Book(50)\n",
    "print(b1 + b2 + b3)"
   ]
  },
  {
   "cell_type": "code",
   "execution_count": 60,
   "id": "ae5070c0-0f45-4f31-8634-fb751f494d8e",
   "metadata": {},
   "outputs": [
    {
     "data": {
      "text/plain": [
       "['__abs__',\n",
       " '__add__',\n",
       " '__and__',\n",
       " '__bool__',\n",
       " '__ceil__',\n",
       " '__class__',\n",
       " '__delattr__',\n",
       " '__dir__',\n",
       " '__divmod__',\n",
       " '__doc__',\n",
       " '__eq__',\n",
       " '__float__',\n",
       " '__floor__',\n",
       " '__floordiv__',\n",
       " '__format__',\n",
       " '__ge__',\n",
       " '__getattribute__',\n",
       " '__getnewargs__',\n",
       " '__gt__',\n",
       " '__hash__',\n",
       " '__index__',\n",
       " '__init__',\n",
       " '__init_subclass__',\n",
       " '__int__',\n",
       " '__invert__',\n",
       " '__le__',\n",
       " '__lshift__',\n",
       " '__lt__',\n",
       " '__mod__',\n",
       " '__mul__',\n",
       " '__ne__',\n",
       " '__neg__',\n",
       " '__new__',\n",
       " '__or__',\n",
       " '__pos__',\n",
       " '__pow__',\n",
       " '__radd__',\n",
       " '__rand__',\n",
       " '__rdivmod__',\n",
       " '__reduce__',\n",
       " '__reduce_ex__',\n",
       " '__repr__',\n",
       " '__rfloordiv__',\n",
       " '__rlshift__',\n",
       " '__rmod__',\n",
       " '__rmul__',\n",
       " '__ror__',\n",
       " '__round__',\n",
       " '__rpow__',\n",
       " '__rrshift__',\n",
       " '__rshift__',\n",
       " '__rsub__',\n",
       " '__rtruediv__',\n",
       " '__rxor__',\n",
       " '__setattr__',\n",
       " '__sizeof__',\n",
       " '__str__',\n",
       " '__sub__',\n",
       " '__subclasshook__',\n",
       " '__truediv__',\n",
       " '__trunc__',\n",
       " '__xor__',\n",
       " 'as_integer_ratio',\n",
       " 'bit_length',\n",
       " 'conjugate',\n",
       " 'denominator',\n",
       " 'from_bytes',\n",
       " 'imag',\n",
       " 'numerator',\n",
       " 'real',\n",
       " 'to_bytes']"
      ]
     },
     "execution_count": 60,
     "metadata": {},
     "output_type": "execute_result"
    }
   ],
   "source": [
    "dir(int)"
   ]
  },
  {
   "cell_type": "code",
   "execution_count": 61,
   "id": "c38ccdb1-e180-4bd7-b9c0-f4b69fd2a855",
   "metadata": {},
   "outputs": [
    {
     "name": "stdout",
     "output_type": "stream",
     "text": [
      "Two arg Method\n"
     ]
    }
   ],
   "source": [
    "class Test:\n",
    "    def m1(self):\n",
    "        print('No Argument Method')\n",
    "    def m1(self, a):\n",
    "        print('One are Method')\n",
    "    def m1(self, a, b):\n",
    "        print('Two arg Method')\n",
    "\n",
    "t = Test()\n",
    "#t.m1()\n",
    "#t.m1(10)\n",
    "t.m1(10, 20)"
   ]
  },
  {
   "cell_type": "code",
   "execution_count": 62,
   "id": "943a3f00-4f38-44f3-bbe7-ea5bd40c3b96",
   "metadata": {},
   "outputs": [
    {
     "name": "stdout",
     "output_type": "stream",
     "text": [
      "At least pass one arg\n",
      "Number 10\n",
      "Sum of 30\n",
      "The sum is 60\n"
     ]
    }
   ],
   "source": [
    "class Test:\n",
    "    def sum(self, a = None, b = None, c = None):\n",
    "        if a != None and b != None and c != None:\n",
    "            print('The sum is', a + b + c)\n",
    "        elif a != None and b != None:\n",
    "            print('Sum of', a + b)\n",
    "        elif a!=None:\n",
    "            print('Number', a)\n",
    "        else:\n",
    "            print('At least pass one arg')\n",
    "            \n",
    "t = Test()\n",
    "t.sum()\n",
    "t.sum(10)\n",
    "t.sum(10,20)\n",
    "t.sum(10,20,30)"
   ]
  },
  {
   "cell_type": "code",
   "execution_count": 63,
   "id": "ded5d2f6-bce7-41c5-94ba-608e49fb3840",
   "metadata": {},
   "outputs": [
    {
     "name": "stdout",
     "output_type": "stream",
     "text": [
      "The sum is 10\n",
      "The sum is 30\n",
      "The sum is 30\n"
     ]
    }
   ],
   "source": [
    "class Test:\n",
    "    def sum(self , *a):\n",
    "        total = 0\n",
    "        for x in a:\n",
    "            total+=x\n",
    "        print('The sum is', total)\n",
    "t = Test()\n",
    "t.sum(10)\n",
    "t.sum(10,20)\n",
    "t.sum(10,10,10)"
   ]
  },
  {
   "cell_type": "code",
   "execution_count": 64,
   "id": "b662c375-3272-47b4-b34b-aa00b379e799",
   "metadata": {},
   "outputs": [
    {
     "name": "stdout",
     "output_type": "stream",
     "text": [
      "Two arg const\n"
     ]
    }
   ],
   "source": [
    "class Test:\n",
    "    def __init__(self):\n",
    "        print('No arg const')\n",
    "    def __init__(self, a):\n",
    "        print('One arg const')\n",
    "    def __init__(self, a, b):\n",
    "        print('Two arg const')\n",
    "#t = Test()\n",
    "#t=Test(10)\n",
    "t = Test(10,20)"
   ]
  },
  {
   "cell_type": "code",
   "execution_count": 65,
   "id": "4b1bcb7d-6068-4367-b213-06556ea1e1d3",
   "metadata": {},
   "outputs": [
    {
     "name": "stdout",
     "output_type": "stream",
     "text": [
      "const\n",
      "const\n",
      "const\n",
      "const\n",
      "const\n"
     ]
    }
   ],
   "source": [
    "class Test:\n",
    "    def __init__(self, *a):\n",
    "        print('const')\n",
    "t = Test()\n",
    "t = Test(10)\n",
    "t = Test(10,10)\n",
    "t = Test(10,10,10)\n",
    "t = Test(10,10,10,10)"
   ]
  },
  {
   "cell_type": "code",
   "execution_count": 66,
   "id": "6b6eed3d-8976-4fe3-9bd5-5bd3cfb579fd",
   "metadata": {},
   "outputs": [
    {
     "name": "stdout",
     "output_type": "stream",
     "text": [
      "Land|Cash|Gold|Power\n",
      "A|B|C\n"
     ]
    }
   ],
   "source": [
    "class P:\n",
    "    def property(self):\n",
    "        print('Land|Cash|Gold|Power')\n",
    "    def marriage(self):\n",
    "        print('X|Y|Z')\n",
    "\n",
    "class C(P):\n",
    "    def marriage(self):\n",
    "        print('A|B|C')\n",
    "c=C()\n",
    "c.property()\n",
    "c.marriage()"
   ]
  },
  {
   "cell_type": "code",
   "execution_count": 67,
   "id": "914060b8-fc71-4a8a-b875-764ed00a8664",
   "metadata": {},
   "outputs": [
    {
     "name": "stdout",
     "output_type": "stream",
     "text": [
      "Land|Cash|Gold|Power\n",
      "X|Y|Z\n",
      "A|B|C\n"
     ]
    }
   ],
   "source": [
    "class P:\n",
    "    def property(self):\n",
    "        print('Land|Cash|Gold|Power')\n",
    "    def marriage(self):\n",
    "        print('X|Y|Z')\n",
    "\n",
    "class C(P):\n",
    "    def marriage(self):\n",
    "        super().marriage()\n",
    "        print('A|B|C')\n",
    "c=C()\n",
    "c.property()\n",
    "c.marriage()"
   ]
  },
  {
   "cell_type": "markdown",
   "id": "46ae5505-78fe-4485-aaa8-52298b3e915e",
   "metadata": {},
   "source": [
    "@abstractmethod"
   ]
  },
  {
   "cell_type": "code",
   "execution_count": 68,
   "id": "0e052d2c-e7a1-4f02-9091-dec8ea7cbf55",
   "metadata": {},
   "outputs": [
    {
     "name": "stdout",
     "output_type": "stream",
     "text": [
      "M2 logic present here\n",
      "M1 logic present here\n"
     ]
    }
   ],
   "source": [
    "from abc import *\n",
    "class Vehicle(ABC):\n",
    "    @abstractmethod\n",
    "    def m1(self): pass\n",
    "    @abstractmethod\n",
    "\n",
    "    def m2(self):\n",
    "        print('Property')\n",
    "\n",
    "class C(Vehicle):\n",
    "    def m1(self):\n",
    "        print('M1 logic present here')\n",
    "    def m2(self):\n",
    "        print('M2 logic present here')\n",
    "c = C()\n",
    "c.m2()\n",
    "c.m1()\n"
   ]
  },
  {
   "cell_type": "code",
   "execution_count": null,
   "id": "d63d3243-f2d1-4af5-9a53-3f2922f5afbf",
   "metadata": {},
   "outputs": [],
   "source": []
  }
 ],
 "metadata": {
  "interpreter": {
   "hash": "aad6270fd5c6a3d46d2fc3952eb3fb51e47462abf5d83e338b78accd16039f3e"
  },
  "kernelspec": {
   "display_name": "Python 3.9.7 64-bit ('jupyterlab3112': conda)",
   "name": "python3"
  },
  "language_info": {
   "codemirror_mode": {
    "name": "ipython",
    "version": 3
   },
   "file_extension": ".py",
   "mimetype": "text/x-python",
   "name": "python",
   "nbconvert_exporter": "python",
   "pygments_lexer": "ipython3",
   "version": "3.8.11"
  }
 },
 "nbformat": 4,
 "nbformat_minor": 5
}
